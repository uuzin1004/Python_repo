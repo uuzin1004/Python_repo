{
  "nbformat": 4,
  "nbformat_minor": 0,
  "metadata": {
    "colab": {
      "name": "python_1.ipynb",
      "provenance": [],
      "include_colab_link": true
    },
    "kernelspec": {
      "name": "python3",
      "display_name": "Python 3"
    },
    "language_info": {
      "name": "python"
    }
  },
  "cells": [
    {
      "cell_type": "markdown",
      "metadata": {
        "id": "view-in-github",
        "colab_type": "text"
      },
      "source": [
        "<a href=\"https://colab.research.google.com/github/uuzin1004/Python_repo/blob/main/python_1.ipynb\" target=\"_parent\"><img src=\"https://colab.research.google.com/assets/colab-badge.svg\" alt=\"Open In Colab\"/></a>"
      ]
    },
    {
      "cell_type": "code",
      "execution_count": null,
      "metadata": {
        "colab": {
          "base_uri": "https://localhost:8080/"
        },
        "id": "vWZJDw-vnEFf",
        "outputId": "3e5394af-9e7f-4de5-e999-490b46649df9"
      },
      "outputs": [
        {
          "output_type": "stream",
          "name": "stdout",
          "text": [
            "hello world\n"
          ]
        }
      ],
      "source": [
        "print(\"hello world\")"
      ]
    },
    {
      "cell_type": "code",
      "source": [
        "print('Hello world')"
      ],
      "metadata": {
        "colab": {
          "base_uri": "https://localhost:8080/"
        },
        "id": "7XAVdAvRnbHF",
        "outputId": "bb75bc4a-d915-4d03-8ba6-57473f3be93a"
      },
      "execution_count": null,
      "outputs": [
        {
          "output_type": "stream",
          "name": "stdout",
          "text": [
            "Hello world\n"
          ]
        }
      ]
    },
    {
      "cell_type": "code",
      "source": [
        "print(1+2)"
      ],
      "metadata": {
        "colab": {
          "base_uri": "https://localhost:8080/"
        },
        "id": "5zieg9vlnpso",
        "outputId": "99658134-5867-4e35-f215-9cd2b8fd06cc"
      },
      "execution_count": null,
      "outputs": [
        {
          "output_type": "stream",
          "name": "stdout",
          "text": [
            "3\n"
          ]
        }
      ]
    },
    {
      "cell_type": "code",
      "source": [
        "print(2*3)"
      ],
      "metadata": {
        "colab": {
          "base_uri": "https://localhost:8080/"
        },
        "id": "rdOnh2i1nu34",
        "outputId": "e4d17950-b0a2-4685-ba4c-f183d30b77ce"
      },
      "execution_count": null,
      "outputs": [
        {
          "output_type": "stream",
          "name": "stdout",
          "text": [
            "6\n"
          ]
        }
      ]
    },
    {
      "cell_type": "code",
      "source": [
        "print(True)"
      ],
      "metadata": {
        "colab": {
          "base_uri": "https://localhost:8080/"
        },
        "id": "b_ntQJ22ozc2",
        "outputId": "2bb06ada-f1d9-4bf0-9596-ce9fa1f4b467"
      },
      "execution_count": null,
      "outputs": [
        {
          "output_type": "stream",
          "name": "stdout",
          "text": [
            "True\n"
          ]
        }
      ]
    },
    {
      "cell_type": "code",
      "source": [
        "print(False)"
      ],
      "metadata": {
        "colab": {
          "base_uri": "https://localhost:8080/"
        },
        "id": "Gq03fAk2o327",
        "outputId": "d286543c-9491-4236-8dd5-65227af69886"
      },
      "execution_count": null,
      "outputs": [
        {
          "output_type": "stream",
          "name": "stdout",
          "text": [
            "False\n"
          ]
        }
      ]
    },
    {
      "cell_type": "code",
      "source": [
        "a=3\n",
        "b=4\n",
        "c= a + b\n",
        "print(c); print(a); print(b)"
      ],
      "metadata": {
        "colab": {
          "base_uri": "https://localhost:8080/"
        },
        "id": "MSMf1flpo7pQ",
        "outputId": "8c326ed2-f2fe-4ce5-b313-bff480435d11"
      },
      "execution_count": null,
      "outputs": [
        {
          "output_type": "stream",
          "name": "stdout",
          "text": [
            "7\n",
            "3\n",
            "4\n"
          ]
        }
      ]
    },
    {
      "cell_type": "code",
      "source": [
        "a = \"안녕하세요\"\n",
        "b = \"반갑습니다\"\n",
        "c= a+b\n",
        "print(c)"
      ],
      "metadata": {
        "colab": {
          "base_uri": "https://localhost:8080/"
        },
        "id": "0VuWz-nLpHii",
        "outputId": "a53c36cb-4324-452f-c144-ce013eb62884"
      },
      "execution_count": null,
      "outputs": [
        {
          "output_type": "stream",
          "name": "stdout",
          "text": [
            "안녕하세요반갑습니다\n"
          ]
        }
      ]
    },
    {
      "cell_type": "code",
      "source": [
        "a= \"안녕하세요\"\n",
        "b = a*10\n",
        "print(b)"
      ],
      "metadata": {
        "colab": {
          "base_uri": "https://localhost:8080/"
        },
        "id": "KoWqPFH7puer",
        "outputId": "54cc288f-4f1e-4813-b597-b50a8fe3b092"
      },
      "execution_count": null,
      "outputs": [
        {
          "output_type": "stream",
          "name": "stdout",
          "text": [
            "안녕하세요안녕하세요안녕하세요안녕하세요안녕하세요안녕하세요안녕하세요안녕하세요안녕하세요안녕하세요\n"
          ]
        }
      ]
    },
    {
      "cell_type": "code",
      "source": [
        "print(\"###############\")\n",
        "print(\"#\"*15)"
      ],
      "metadata": {
        "colab": {
          "base_uri": "https://localhost:8080/"
        },
        "id": "N-y3pIijp3LY",
        "outputId": "b1f1a928-2926-4efd-af9c-db2f1f401dd6"
      },
      "execution_count": 4,
      "outputs": [
        {
          "output_type": "stream",
          "name": "stdout",
          "text": [
            "###############\n",
            "###############\n"
          ]
        }
      ]
    },
    {
      "cell_type": "code",
      "source": [
        ""
      ],
      "metadata": {
        "id": "OwOeC410rnTI"
      },
      "execution_count": null,
      "outputs": []
    },
    {
      "cell_type": "markdown",
      "source": [
        " 아버지와 어머니 그리고 삼촌에게 감사한 마음을 전하고 싶습니다. 아버지에게는 10만원, 어머니에게는 15만원, 삼촌에게는 \"감사합니다.\" 변수: _Father, _Mother, _Uncle"
      ],
      "metadata": {
        "id": "-soUyQUUrn_2"
      }
    },
    {
      "cell_type": "code",
      "source": [
        "_Father= \"100,000\"\n",
        "_Mother= \"15,0000\"\n",
        "_Uncle= \"감사합니다\"\n",
        "print(\"아버지=\", _Father)\n",
        "print(\"어머니=\", _Mother)\n",
        "print(\"삼촌=\", _Uncle)"
      ],
      "metadata": {
        "colab": {
          "base_uri": "https://localhost:8080/"
        },
        "id": "XRzAgcpJqMEX",
        "outputId": "cb104379-9325-459c-b33c-a453514465ff"
      },
      "execution_count": 3,
      "outputs": [
        {
          "output_type": "stream",
          "name": "stdout",
          "text": [
            "아버지= 100,000\n",
            "어머니= 15,0000\n",
            "삼촌= 감사합니다\n"
          ]
        }
      ]
    },
    {
      "cell_type": "markdown",
      "source": [
        "변수의 규칙: 문자 또는 _로 시작(Father,\n",
        "father,_father), 문자, 숫자, _구성(Father69, father55, father_56), 공백 절대안된다. 안쓰는 것이 좋다. 특히 특수문자 절대 안된다.\n"
      ],
      "metadata": {
        "id": "UFRQ7ljGruRA"
      }
    },
    {
      "cell_type": "markdown",
      "source": [
        "FATHER, father, MOTHER, mother, _Father, _father, Keyword(True, False, for, while, if, continue, break, class...)"
      ],
      "metadata": {
        "id": "gHQlw7e3r3B_"
      }
    },
    {
      "cell_type": "markdown",
      "source": [
        " 숫자자료형= 숫자, 문자자료형 = 모든 문자들.."
      ],
      "metadata": {
        "id": "vFKLSJiur96p"
      }
    },
    {
      "cell_type": "code",
      "source": [
        "a=2\n",
        "b=\"2\"\n",
        "c= a + int(b)\n",
        "print(c)"
      ],
      "metadata": {
        "id": "sBjoG63bsX2O",
        "outputId": "72758851-dd38-4a54-fce1-355f7b2e71b5",
        "colab": {
          "base_uri": "https://localhost:8080/"
        }
      },
      "execution_count": 6,
      "outputs": [
        {
          "output_type": "stream",
          "name": "stdout",
          "text": [
            "4\n"
          ]
        }
      ]
    },
    {
      "cell_type": "markdown",
      "source": [
        "형변환 : 정수형을 변환할 때int(), 실수형으로 변환하고자 할 때 float(), 문자자료형으로 변환하고자 할 때 str() int(\"꽈배기\"), int(\"2.5\") 불가능 int(float(\"2.5\")) 가능"
      ],
      "metadata": {
        "id": "uLjFiLGvshw3"
      }
    },
    {
      "cell_type": "markdown",
      "source": [
        "산술연산자 : + 더하기(print(4+3), - 빼기(print(2-1), * 곱하기(print(5+4), / 나누기(print(4/2), % 나머지(print(5 % 2), // 몫 (print(6 // 2), ** 거듭제곱(print4**2)"
      ],
      "metadata": {
        "id": "kXstmWOdteMP"
      }
    }
  ]
}