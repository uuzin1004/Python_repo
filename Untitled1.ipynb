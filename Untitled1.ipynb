{
  "nbformat": 4,
  "nbformat_minor": 0,
  "metadata": {
    "colab": {
      "name": "Untitled1.ipynb",
      "provenance": [],
      "authorship_tag": "ABX9TyM7N/oKv29L14mH23dv5ATk",
      "include_colab_link": true
    },
    "kernelspec": {
      "name": "python3",
      "display_name": "Python 3"
    },
    "language_info": {
      "name": "python"
    }
  },
  "cells": [
    {
      "cell_type": "markdown",
      "metadata": {
        "id": "view-in-github",
        "colab_type": "text"
      },
      "source": [
        "<a href=\"https://colab.research.google.com/github/uuzin1004/Python_repo/blob/main/Untitled1.ipynb\" target=\"_parent\"><img src=\"https://colab.research.google.com/assets/colab-badge.svg\" alt=\"Open In Colab\"/></a>"
      ]
    },
    {
      "cell_type": "code",
      "execution_count": 3,
      "metadata": {
        "colab": {
          "base_uri": "https://localhost:8080/"
        },
        "id": "EBACvX1MhbzG",
        "outputId": "9ff008b4-0348-4f1e-f126-aa50eb83fefa"
      },
      "outputs": [
        {
          "output_type": "stream",
          "name": "stdout",
          "text": [
            "3개의 정수값을 입력하시오\n",
            "n1의 정수값을 입력: 14\n",
            "n1의 정수값을 입력: 42\n",
            "n1의 정수값을 입력: 423\n",
            "159.66666666666666\n"
          ]
        }
      ],
      "source": [
        "print(\"3개의 정수값을 입력하시오\")\n",
        "n1 = int(input(\"n1의 정수값을 입력: \"))\n",
        "n2 = int(input(\"n1의 정수값을 입력: \"))\n",
        "n3 = int(input(\"n1의 정수값을 입력: \")) \n",
        "\n",
        "total = n1 + n2 + n3;\n",
        "average = total /3 ;\n",
        "print(average)"
      ]
    },
    {
      "cell_type": "code",
      "source": [
        "import math\n",
        "#from math import sqrt\n",
        "print(\"'a, b, c' 3개의 값을 입력하시오\")\n",
        "\n",
        "a = int(input(\"Enter the a: \"))\n",
        "b = i4nt(input(\"Enter the b: \"))\n",
        "c = int(input(\"Enter the c: \"))\n",
        "\n",
        "d = math.sqrt(b*b) - (4*a*c); \n",
        "#d = sqrt(b*b) - (4*a*c); \n",
        "x1 = (-b+d) / (2 * a);\n",
        "x2 = (-b-d) / (2 * a);\n",
        "print(x1, x2)"
      ],
      "metadata": {
        "colab": {
          "base_uri": "https://localhost:8080/"
        },
        "id": "R1KKVwnmht5E",
        "outputId": "f644583a-623c-49c0-f860-eac6d0044e58"
      },
      "execution_count": 2,
      "outputs": [
        {
          "output_type": "stream",
          "name": "stdout",
          "text": [
            "'a, b, c' 3개의 값을 입력하시오\n",
            "Enter the a: 11\n",
            "Enter the b: 22\n",
            "Enter the c: 33\n",
            "-66.0 64.0\n"
          ]
        }
      ]
    },
    {
      "cell_type": "code",
      "source": [
        "# 근의공식 구하기\n",
        "a = int(input(\"a의 값을 입력하세요: \"))\n",
        "b = int(input(\"b의 값을 입력하세요: \"))\n",
        "c = int(input(\"c의 값을 입력하세요: \"))\n",
        "\n",
        "x1 = ( (-b + (math.sqrt(math.pow(b,2) - 4 * a * c)))/2 * a)\n",
        "x2 = ( (-b - (math.sqrt(math.pow(b,2) - 4 * a * c)))/2 * a)\n",
        "\n",
        "print(\"x1 = \" , x1)\n",
        "print(\"x2 = \" , x2)"
      ],
      "metadata": {
        "colab": {
          "base_uri": "https://localhost:8080/"
        },
        "id": "nPyh3o3TiCS3",
        "outputId": "fe653752-c2c9-4d6a-9ed2-94e88bb1834f"
      },
      "execution_count": 5,
      "outputs": [
        {
          "output_type": "stream",
          "name": "stdout",
          "text": [
            "a의 값을 입력하세요: 4\n",
            "b의 값을 입력하세요: -6\n",
            "c의 값을 입력하세요: -8\n",
            "x1 =  37.612496949731394\n",
            "x2 =  -13.612496949731394\n"
          ]
        }
      ]
    },
    {
      "cell_type": "code",
      "source": [
        "total = 0 \n",
        "counter = 1 \n",
        "while counter <= 10:\n",
        " grade=int(input (\"Enter grade: \"))\n",
        " total = grade + total\n",
        " counter = counter + 1\n",
        "average = total / 10\n",
        "print(average)22"
      ],
      "metadata": {
        "colab": {
          "base_uri": "https://localhost:8080/"
        },
        "id": "i6-5jEAqiCaP",
        "outputId": "5f5c679d-0c3e-465c-d3b4-0fc7d33265b1"
      },
      "execution_count": 6,
      "outputs": [
        {
          "output_type": "stream",
          "name": "stdout",
          "text": [
            "Enter grade: 45\n",
            "Enter grade: 67\n",
            "Enter grade: 78\n",
            "Enter grade: 55\n",
            "Enter grade: 66\n",
            "Enter grade: 42\n",
            "Enter grade: 7\n",
            "Enter grade: 675\n",
            "Enter grade: 67\n",
            "Enter grade: 45\n",
            "114.7\n"
          ]
        }
      ]
    }
  ]
}